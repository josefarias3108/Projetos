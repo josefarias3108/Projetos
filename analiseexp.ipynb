{
 "cells": [
  {
   "cell_type": "code",
   "execution_count": 3,
   "id": "332064a8",
   "metadata": {},
   "outputs": [
    {
     "name": "stdout",
     "output_type": "stream",
     "text": [
      "Collecting pandas\n",
      "  Using cached pandas-2.3.1-cp312-cp312-win_amd64.whl.metadata (19 kB)\n",
      "Collecting numpy>=1.26.0 (from pandas)\n",
      "  Using cached numpy-2.3.1-cp312-cp312-win_amd64.whl.metadata (60 kB)\n",
      "Requirement already satisfied: python-dateutil>=2.8.2 in c:\\users\\kleve\\projeto\\projeto\\lib\\site-packages (from pandas) (2.9.0.post0)\n",
      "Collecting pytz>=2020.1 (from pandas)\n",
      "  Using cached pytz-2025.2-py2.py3-none-any.whl.metadata (22 kB)\n",
      "Collecting tzdata>=2022.7 (from pandas)\n",
      "  Using cached tzdata-2025.2-py2.py3-none-any.whl.metadata (1.4 kB)\n",
      "Requirement already satisfied: six>=1.5 in c:\\users\\kleve\\projeto\\projeto\\lib\\site-packages (from python-dateutil>=2.8.2->pandas) (1.17.0)\n",
      "Using cached pandas-2.3.1-cp312-cp312-win_amd64.whl (11.0 MB)\n",
      "Using cached numpy-2.3.1-cp312-cp312-win_amd64.whl (12.7 MB)\n",
      "Using cached pytz-2025.2-py2.py3-none-any.whl (509 kB)\n",
      "Using cached tzdata-2025.2-py2.py3-none-any.whl (347 kB)\n",
      "Installing collected packages: pytz, tzdata, numpy, pandas\n",
      "Successfully installed numpy-2.3.1 pandas-2.3.1 pytz-2025.2 tzdata-2025.2\n"
     ]
    },
    {
     "name": "stderr",
     "output_type": "stream",
     "text": [
      "\n",
      "[notice] A new release of pip is available: 25.0.1 -> 25.1.1\n",
      "[notice] To update, run: python.exe -m pip install --upgrade pip\n"
     ]
    }
   ],
   "source": [
    "!   pip install pandas"
   ]
  },
  {
   "cell_type": "code",
   "execution_count": 5,
   "id": "c6fbd21f",
   "metadata": {},
   "outputs": [],
   "source": [
    "import pandas as pd\n",
    "\n",
    "d_cidade = pd.read_csv(\"cidade.csv\", sep=\",\")"
   ]
  },
  {
   "cell_type": "code",
   "execution_count": 4,
   "id": "1f6a86d7",
   "metadata": {},
   "outputs": [
    {
     "name": "stdout",
     "output_type": "stream",
     "text": [
      "2.3.1\n"
     ]
    }
   ],
   "source": [
    "# Verifica se o pandas está instalado e mostra a versão\n",
    "import pandas as pd\n",
    "print(pd.__version__)"
   ]
  },
  {
   "cell_type": "code",
   "execution_count": 6,
   "id": "db7a4ec3",
   "metadata": {},
   "outputs": [
    {
     "name": "stdout",
     "output_type": "stream",
     "text": [
      "<class 'pandas.core.frame.DataFrame'>\n",
      "RangeIndex: 100 entries, 0 to 99\n",
      "Data columns (total 3 columns):\n",
      " #   Column    Non-Null Count  Dtype \n",
      "---  ------    --------------  ----- \n",
      " 0   city      100 non-null    object\n",
      " 1   state_id  100 non-null    int64 \n",
      " 2   city_id   100 non-null    int64 \n",
      "dtypes: int64(2), object(1)\n",
      "memory usage: 2.5+ KB\n"
     ]
    }
   ],
   "source": [
    "d_cidade.info()\n"
   ]
  },
  {
   "cell_type": "code",
   "execution_count": 7,
   "id": "c6271ff8",
   "metadata": {},
   "outputs": [
    {
     "data": {
      "text/html": [
       "<div>\n",
       "<style scoped>\n",
       "    .dataframe tbody tr th:only-of-type {\n",
       "        vertical-align: middle;\n",
       "    }\n",
       "\n",
       "    .dataframe tbody tr th {\n",
       "        vertical-align: top;\n",
       "    }\n",
       "\n",
       "    .dataframe thead th {\n",
       "        text-align: right;\n",
       "    }\n",
       "</style>\n",
       "<table border=\"1\" class=\"dataframe\">\n",
       "  <thead>\n",
       "    <tr style=\"text-align: right;\">\n",
       "      <th></th>\n",
       "      <th>city</th>\n",
       "      <th>state_id</th>\n",
       "      <th>city_id</th>\n",
       "    </tr>\n",
       "  </thead>\n",
       "  <tbody>\n",
       "    <tr>\n",
       "      <th>0</th>\n",
       "      <td>São José do Goiabal</td>\n",
       "      <td>2755422274446512640</td>\n",
       "      <td>670134511382200832</td>\n",
       "    </tr>\n",
       "    <tr>\n",
       "      <th>1</th>\n",
       "      <td>Pederneiras</td>\n",
       "      <td>2066774635771587840</td>\n",
       "      <td>1734898293086970880</td>\n",
       "    </tr>\n",
       "    <tr>\n",
       "      <th>2</th>\n",
       "      <td>Unistalda</td>\n",
       "      <td>1255006025180785920</td>\n",
       "      <td>1215291016113604608</td>\n",
       "    </tr>\n",
       "    <tr>\n",
       "      <th>3</th>\n",
       "      <td>Córrego do Bom Jesus</td>\n",
       "      <td>2755422274446512640</td>\n",
       "      <td>1751285020827958784</td>\n",
       "    </tr>\n",
       "    <tr>\n",
       "      <th>4</th>\n",
       "      <td>Nova Monte Verde</td>\n",
       "      <td>1169007872647055360</td>\n",
       "      <td>2840661058008040960</td>\n",
       "    </tr>\n",
       "  </tbody>\n",
       "</table>\n",
       "</div>"
      ],
      "text/plain": [
       "                   city             state_id              city_id\n",
       "0   São José do Goiabal  2755422274446512640   670134511382200832\n",
       "1           Pederneiras  2066774635771587840  1734898293086970880\n",
       "2             Unistalda  1255006025180785920  1215291016113604608\n",
       "3  Córrego do Bom Jesus  2755422274446512640  1751285020827958784\n",
       "4      Nova Monte Verde  1169007872647055360  2840661058008040960"
      ]
     },
     "execution_count": 7,
     "metadata": {},
     "output_type": "execute_result"
    }
   ],
   "source": [
    "d_cidade.head()"
   ]
  },
  {
   "cell_type": "code",
   "execution_count": 8,
   "id": "6efcfa35",
   "metadata": {},
   "outputs": [
    {
     "data": {
      "text/html": [
       "<div>\n",
       "<style scoped>\n",
       "    .dataframe tbody tr th:only-of-type {\n",
       "        vertical-align: middle;\n",
       "    }\n",
       "\n",
       "    .dataframe tbody tr th {\n",
       "        vertical-align: top;\n",
       "    }\n",
       "\n",
       "    .dataframe thead th {\n",
       "        text-align: right;\n",
       "    }\n",
       "</style>\n",
       "<table border=\"1\" class=\"dataframe\">\n",
       "  <thead>\n",
       "    <tr style=\"text-align: right;\">\n",
       "      <th></th>\n",
       "      <th>state_id</th>\n",
       "      <th>city_id</th>\n",
       "    </tr>\n",
       "  </thead>\n",
       "  <tbody>\n",
       "    <tr>\n",
       "      <th>count</th>\n",
       "      <td>1.000000e+02</td>\n",
       "      <td>1.000000e+02</td>\n",
       "    </tr>\n",
       "    <tr>\n",
       "      <th>mean</th>\n",
       "      <td>1.852996e+18</td>\n",
       "      <td>1.626605e+18</td>\n",
       "    </tr>\n",
       "    <tr>\n",
       "      <th>std</th>\n",
       "      <td>7.736100e+17</td>\n",
       "      <td>9.344515e+17</td>\n",
       "    </tr>\n",
       "    <tr>\n",
       "      <th>min</th>\n",
       "      <td>3.964692e+17</td>\n",
       "      <td>6.032041e+16</td>\n",
       "    </tr>\n",
       "    <tr>\n",
       "      <th>25%</th>\n",
       "      <td>1.255006e+18</td>\n",
       "      <td>8.055697e+17</td>\n",
       "    </tr>\n",
       "    <tr>\n",
       "      <th>50%</th>\n",
       "      <td>1.916636e+18</td>\n",
       "      <td>1.624003e+18</td>\n",
       "    </tr>\n",
       "    <tr>\n",
       "      <th>75%</th>\n",
       "      <td>2.755422e+18</td>\n",
       "      <td>2.309606e+18</td>\n",
       "    </tr>\n",
       "    <tr>\n",
       "      <th>max</th>\n",
       "      <td>3.349851e+18</td>\n",
       "      <td>3.287373e+18</td>\n",
       "    </tr>\n",
       "  </tbody>\n",
       "</table>\n",
       "</div>"
      ],
      "text/plain": [
       "           state_id       city_id\n",
       "count  1.000000e+02  1.000000e+02\n",
       "mean   1.852996e+18  1.626605e+18\n",
       "std    7.736100e+17  9.344515e+17\n",
       "min    3.964692e+17  6.032041e+16\n",
       "25%    1.255006e+18  8.055697e+17\n",
       "50%    1.916636e+18  1.624003e+18\n",
       "75%    2.755422e+18  2.309606e+18\n",
       "max    3.349851e+18  3.287373e+18"
      ]
     },
     "execution_count": 8,
     "metadata": {},
     "output_type": "execute_result"
    }
   ],
   "source": [
    "d_cidade.describe()\n"
   ]
  },
  {
   "cell_type": "code",
   "execution_count": 9,
   "id": "ede35f95",
   "metadata": {},
   "outputs": [
    {
     "data": {
      "text/plain": [
       "(100, 3)"
      ]
     },
     "execution_count": 9,
     "metadata": {},
     "output_type": "execute_result"
    }
   ],
   "source": [
    "d_cidade.shape"
   ]
  },
  {
   "cell_type": "code",
   "execution_count": 10,
   "id": "5757147f",
   "metadata": {},
   "outputs": [
    {
     "data": {
      "text/plain": [
       "city        0\n",
       "state_id    0\n",
       "city_id     0\n",
       "dtype: int64"
      ]
     },
     "execution_count": 10,
     "metadata": {},
     "output_type": "execute_result"
    }
   ],
   "source": [
    "d_cidade.isnull().sum() "
   ]
  },
  {
   "cell_type": "code",
   "execution_count": 11,
   "id": "d464a139",
   "metadata": {},
   "outputs": [
    {
     "data": {
      "text/plain": [
       "np.int64(0)"
      ]
     },
     "execution_count": 11,
     "metadata": {},
     "output_type": "execute_result"
    }
   ],
   "source": [
    "d_cidade.duplicated().sum() "
   ]
  },
  {
   "cell_type": "code",
   "execution_count": 12,
   "id": "76b20c10",
   "metadata": {},
   "outputs": [],
   "source": [
    "d_estado = pd.read_csv(\"estado.csv\", sep=\",\")"
   ]
  },
  {
   "cell_type": "code",
   "execution_count": 13,
   "id": "8c9916cd",
   "metadata": {},
   "outputs": [
    {
     "name": "stdout",
     "output_type": "stream",
     "text": [
      "<class 'pandas.core.frame.DataFrame'>\n",
      "RangeIndex: 22 entries, 0 to 21\n",
      "Data columns (total 3 columns):\n",
      " #   Column      Non-Null Count  Dtype \n",
      "---  ------      --------------  ----- \n",
      " 0   state       22 non-null     object\n",
      " 1   country_id  22 non-null     int64 \n",
      " 2   state_id    22 non-null     int64 \n",
      "dtypes: int64(2), object(1)\n",
      "memory usage: 660.0+ bytes\n"
     ]
    }
   ],
   "source": [
    "d_estado.info()"
   ]
  },
  {
   "cell_type": "code",
   "execution_count": 14,
   "id": "64e1bb24",
   "metadata": {},
   "outputs": [
    {
     "data": {
      "text/plain": [
       "state         0\n",
       "country_id    0\n",
       "state_id      0\n",
       "dtype: int64"
      ]
     },
     "execution_count": 14,
     "metadata": {},
     "output_type": "execute_result"
    }
   ],
   "source": [
    "d_estado.isnull().sum() "
   ]
  },
  {
   "cell_type": "code",
   "execution_count": 15,
   "id": "93b607a5",
   "metadata": {},
   "outputs": [
    {
     "data": {
      "text/plain": [
       "np.int64(0)"
      ]
     },
     "execution_count": 15,
     "metadata": {},
     "output_type": "execute_result"
    }
   ],
   "source": [
    "d_cidade.duplicated().sum() "
   ]
  },
  {
   "cell_type": "code",
   "execution_count": 16,
   "id": "7ae262f7",
   "metadata": {},
   "outputs": [],
   "source": [
    "d_pais = pd.read_csv(\"pais.csv\", sep=\",\")"
   ]
  },
  {
   "cell_type": "code",
   "execution_count": 17,
   "id": "3458c368",
   "metadata": {},
   "outputs": [
    {
     "name": "stdout",
     "output_type": "stream",
     "text": [
      "<class 'pandas.core.frame.DataFrame'>\n",
      "RangeIndex: 1 entries, 0 to 0\n",
      "Data columns (total 2 columns):\n",
      " #   Column      Non-Null Count  Dtype \n",
      "---  ------      --------------  ----- \n",
      " 0   country     1 non-null      object\n",
      " 1   country_id  1 non-null      int64 \n",
      "dtypes: int64(1), object(1)\n",
      "memory usage: 148.0+ bytes\n"
     ]
    }
   ],
   "source": [
    "d_pais.info()"
   ]
  },
  {
   "cell_type": "code",
   "execution_count": 18,
   "id": "d90f6657",
   "metadata": {},
   "outputs": [
    {
     "data": {
      "text/plain": [
       "country       0\n",
       "country_id    0\n",
       "dtype: int64"
      ]
     },
     "execution_count": 18,
     "metadata": {},
     "output_type": "execute_result"
    }
   ],
   "source": [
    "d_pais.isnull().sum() "
   ]
  },
  {
   "cell_type": "code",
   "execution_count": 19,
   "id": "dbc99356",
   "metadata": {},
   "outputs": [
    {
     "data": {
      "text/plain": [
       "np.int64(0)"
      ]
     },
     "execution_count": 19,
     "metadata": {},
     "output_type": "execute_result"
    }
   ],
   "source": [
    "d_pais.duplicated().sum() "
   ]
  },
  {
   "cell_type": "code",
   "execution_count": 20,
   "id": "27d9b2a3",
   "metadata": {},
   "outputs": [
    {
     "data": {
      "text/html": [
       "<div>\n",
       "<style scoped>\n",
       "    .dataframe tbody tr th:only-of-type {\n",
       "        vertical-align: middle;\n",
       "    }\n",
       "\n",
       "    .dataframe tbody tr th {\n",
       "        vertical-align: top;\n",
       "    }\n",
       "\n",
       "    .dataframe thead th {\n",
       "        text-align: right;\n",
       "    }\n",
       "</style>\n",
       "<table border=\"1\" class=\"dataframe\">\n",
       "  <thead>\n",
       "    <tr style=\"text-align: right;\">\n",
       "      <th></th>\n",
       "      <th>country</th>\n",
       "      <th>country_id</th>\n",
       "    </tr>\n",
       "  </thead>\n",
       "  <tbody>\n",
       "    <tr>\n",
       "      <th>0</th>\n",
       "      <td>Brasil</td>\n",
       "      <td>465471097668177088</td>\n",
       "    </tr>\n",
       "  </tbody>\n",
       "</table>\n",
       "</div>"
      ],
      "text/plain": [
       "  country          country_id\n",
       "0  Brasil  465471097668177088"
      ]
     },
     "execution_count": 20,
     "metadata": {},
     "output_type": "execute_result"
    }
   ],
   "source": [
    "d_pais.head()"
   ]
  },
  {
   "cell_type": "code",
   "execution_count": 21,
   "id": "ad11445e",
   "metadata": {},
   "outputs": [],
   "source": [
    "d_cliente = pd.read_csv(\"pais.csv\", sep=\",\")"
   ]
  },
  {
   "cell_type": "code",
   "execution_count": 22,
   "id": "066867e8",
   "metadata": {},
   "outputs": [
    {
     "name": "stdout",
     "output_type": "stream",
     "text": [
      "<class 'pandas.core.frame.DataFrame'>\n",
      "RangeIndex: 1 entries, 0 to 0\n",
      "Data columns (total 2 columns):\n",
      " #   Column      Non-Null Count  Dtype \n",
      "---  ------      --------------  ----- \n",
      " 0   country     1 non-null      object\n",
      " 1   country_id  1 non-null      int64 \n",
      "dtypes: int64(1), object(1)\n",
      "memory usage: 148.0+ bytes\n"
     ]
    }
   ],
   "source": [
    "d_cliente.info()"
   ]
  },
  {
   "cell_type": "code",
   "execution_count": 23,
   "id": "81644c1c",
   "metadata": {},
   "outputs": [
    {
     "data": {
      "text/plain": [
       "country       0\n",
       "country_id    0\n",
       "dtype: int64"
      ]
     },
     "execution_count": 23,
     "metadata": {},
     "output_type": "execute_result"
    }
   ],
   "source": [
    "d_cliente.isnull().sum() "
   ]
  },
  {
   "cell_type": "code",
   "execution_count": 24,
   "id": "1e00f857",
   "metadata": {},
   "outputs": [
    {
     "data": {
      "text/plain": [
       "np.int64(0)"
      ]
     },
     "execution_count": 24,
     "metadata": {},
     "output_type": "execute_result"
    }
   ],
   "source": [
    "d_cliente.duplicated().sum() "
   ]
  },
  {
   "cell_type": "code",
   "execution_count": 25,
   "id": "f94583b3",
   "metadata": {},
   "outputs": [],
   "source": [
    "d_contas = pd.read_csv(\"contas.csv\", sep=\",\")"
   ]
  },
  {
   "cell_type": "code",
   "execution_count": 26,
   "id": "935a57da",
   "metadata": {},
   "outputs": [
    {
     "name": "stdout",
     "output_type": "stream",
     "text": [
      "<class 'pandas.core.frame.DataFrame'>\n",
      "RangeIndex: 4000 entries, 0 to 3999\n",
      "Data columns (total 7 columns):\n",
      " #   Column               Non-Null Count  Dtype \n",
      "---  ------               --------------  ----- \n",
      " 0   account_id           4000 non-null   int64 \n",
      " 1   customer_id          4000 non-null   int64 \n",
      " 2   created_at           4000 non-null   object\n",
      " 3   status               4000 non-null   object\n",
      " 4   account_branch       4000 non-null   int64 \n",
      " 5   account_check_digit  4000 non-null   int64 \n",
      " 6   account_number       4000 non-null   int64 \n",
      "dtypes: int64(5), object(2)\n",
      "memory usage: 218.9+ KB\n"
     ]
    }
   ],
   "source": [
    "d_contas.info()"
   ]
  },
  {
   "cell_type": "code",
   "execution_count": 27,
   "id": "8360631c",
   "metadata": {},
   "outputs": [
    {
     "data": {
      "text/plain": [
       "account_id             0\n",
       "customer_id            0\n",
       "created_at             0\n",
       "status                 0\n",
       "account_branch         0\n",
       "account_check_digit    0\n",
       "account_number         0\n",
       "dtype: int64"
      ]
     },
     "execution_count": 27,
     "metadata": {},
     "output_type": "execute_result"
    }
   ],
   "source": [
    "d_contas.isnull().sum() "
   ]
  },
  {
   "cell_type": "code",
   "execution_count": 28,
   "id": "86213fe9",
   "metadata": {},
   "outputs": [
    {
     "data": {
      "text/plain": [
       "np.int64(0)"
      ]
     },
     "execution_count": 28,
     "metadata": {},
     "output_type": "execute_result"
    }
   ],
   "source": [
    "d_contas.duplicated().sum() "
   ]
  },
  {
   "cell_type": "code",
   "execution_count": 29,
   "id": "1fb43df1",
   "metadata": {},
   "outputs": [],
   "source": [
    "d_mov_pix = pd.read_csv(\"mov_pix.csv\", sep=\",\")"
   ]
  },
  {
   "cell_type": "code",
   "execution_count": 30,
   "id": "848f23c4",
   "metadata": {},
   "outputs": [],
   "source": [
    "d_mov_pix['pix_requested_at'] = pd.to_datetime(d_mov_pix['pix_requested_at'])\n",
    "d_mov_pix['pix_completed_at'] = pd.to_datetime(d_mov_pix['pix_completed_at'])\n",
    "\n",
    "d_mov_pix['pix_requested_at_fmt'] = d_mov_pix['pix_requested_at'].dt.strftime('%Y-%m-%d %H:%M:%S.%f').str[:-6]\n",
    "d_mov_pix['pix_completed_at_fmt'] = d_mov_pix['pix_completed_at'].dt.strftime('%Y-%m-%d %H:%M:%S.%f').str[:-6]\n"
   ]
  },
  {
   "cell_type": "code",
   "execution_count": 31,
   "id": "78733152",
   "metadata": {},
   "outputs": [
    {
     "name": "stdout",
     "output_type": "stream",
     "text": [
      "<class 'pandas.core.frame.DataFrame'>\n",
      "RangeIndex: 249882 entries, 0 to 249881\n",
      "Data columns (total 9 columns):\n",
      " #   Column                Non-Null Count   Dtype         \n",
      "---  ------                --------------   -----         \n",
      " 0   id                    249882 non-null  int64         \n",
      " 1   account_id            249882 non-null  int64         \n",
      " 2   in_or_out             249882 non-null  object        \n",
      " 3   pix_amount            249882 non-null  float64       \n",
      " 4   pix_requested_at      249882 non-null  datetime64[ns]\n",
      " 5   pix_completed_at      237283 non-null  datetime64[ns]\n",
      " 6   status                249882 non-null  object        \n",
      " 7   pix_requested_at_fmt  249882 non-null  object        \n",
      " 8   pix_completed_at_fmt  237283 non-null  object        \n",
      "dtypes: datetime64[ns](2), float64(1), int64(2), object(4)\n",
      "memory usage: 17.2+ MB\n"
     ]
    }
   ],
   "source": [
    "d_mov_pix.info()"
   ]
  },
  {
   "cell_type": "code",
   "execution_count": 32,
   "id": "1da038f2",
   "metadata": {},
   "outputs": [
    {
     "data": {
      "text/plain": [
       "id                          0\n",
       "account_id                  0\n",
       "in_or_out                   0\n",
       "pix_amount                  0\n",
       "pix_requested_at            0\n",
       "pix_completed_at        12599\n",
       "status                      0\n",
       "pix_requested_at_fmt        0\n",
       "pix_completed_at_fmt    12599\n",
       "dtype: int64"
      ]
     },
     "execution_count": 32,
     "metadata": {},
     "output_type": "execute_result"
    }
   ],
   "source": [
    "d_mov_pix.isnull().sum() "
   ]
  },
  {
   "cell_type": "code",
   "execution_count": 33,
   "id": "4c8dcbb8",
   "metadata": {},
   "outputs": [
    {
     "data": {
      "text/plain": [
       "np.int64(0)"
      ]
     },
     "execution_count": 33,
     "metadata": {},
     "output_type": "execute_result"
    }
   ],
   "source": [
    "d_mov_pix.duplicated().sum() "
   ]
  },
  {
   "cell_type": "code",
   "execution_count": 34,
   "id": "68f73879",
   "metadata": {},
   "outputs": [
    {
     "data": {
      "text/html": [
       "<div>\n",
       "<style scoped>\n",
       "    .dataframe tbody tr th:only-of-type {\n",
       "        vertical-align: middle;\n",
       "    }\n",
       "\n",
       "    .dataframe tbody tr th {\n",
       "        vertical-align: top;\n",
       "    }\n",
       "\n",
       "    .dataframe thead th {\n",
       "        text-align: right;\n",
       "    }\n",
       "</style>\n",
       "<table border=\"1\" class=\"dataframe\">\n",
       "  <thead>\n",
       "    <tr style=\"text-align: right;\">\n",
       "      <th></th>\n",
       "      <th>id</th>\n",
       "      <th>account_id</th>\n",
       "      <th>in_or_out</th>\n",
       "      <th>pix_amount</th>\n",
       "      <th>pix_requested_at</th>\n",
       "      <th>pix_completed_at</th>\n",
       "      <th>status</th>\n",
       "      <th>pix_requested_at_fmt</th>\n",
       "      <th>pix_completed_at_fmt</th>\n",
       "    </tr>\n",
       "  </thead>\n",
       "  <tbody>\n",
       "    <tr>\n",
       "      <th>0</th>\n",
       "      <td>1362907709468179968</td>\n",
       "      <td>509281836645315264</td>\n",
       "      <td>pix_out</td>\n",
       "      <td>1894.77</td>\n",
       "      <td>1970-01-01 00:26:19.693633580</td>\n",
       "      <td>1970-01-01 00:26:19.693646070</td>\n",
       "      <td>completed</td>\n",
       "      <td>1970-01-01 00:26:19.</td>\n",
       "      <td>1970-01-01 00:26:19.</td>\n",
       "    </tr>\n",
       "    <tr>\n",
       "      <th>1</th>\n",
       "      <td>2246794118022659072</td>\n",
       "      <td>509281836645315264</td>\n",
       "      <td>pix_out</td>\n",
       "      <td>419.79</td>\n",
       "      <td>1970-01-01 00:26:27.309244550</td>\n",
       "      <td>1970-01-01 00:26:27.309252480</td>\n",
       "      <td>completed</td>\n",
       "      <td>1970-01-01 00:26:27.</td>\n",
       "      <td>1970-01-01 00:26:27.</td>\n",
       "    </tr>\n",
       "    <tr>\n",
       "      <th>2</th>\n",
       "      <td>165696026045637376</td>\n",
       "      <td>509281836645315264</td>\n",
       "      <td>pix_in</td>\n",
       "      <td>943.61</td>\n",
       "      <td>1970-01-01 00:26:49.306218320</td>\n",
       "      <td>1970-01-01 00:26:49.306227350</td>\n",
       "      <td>completed</td>\n",
       "      <td>1970-01-01 00:26:49.</td>\n",
       "      <td>1970-01-01 00:26:49.</td>\n",
       "    </tr>\n",
       "    <tr>\n",
       "      <th>3</th>\n",
       "      <td>919545932589046400</td>\n",
       "      <td>509281836645315264</td>\n",
       "      <td>pix_in</td>\n",
       "      <td>124.66</td>\n",
       "      <td>1970-01-01 00:26:26.015734430</td>\n",
       "      <td>1970-01-01 00:26:26.015747590</td>\n",
       "      <td>completed</td>\n",
       "      <td>1970-01-01 00:26:26.</td>\n",
       "      <td>1970-01-01 00:26:26.</td>\n",
       "    </tr>\n",
       "    <tr>\n",
       "      <th>4</th>\n",
       "      <td>2001212142240523008</td>\n",
       "      <td>509281836645315264</td>\n",
       "      <td>pix_out</td>\n",
       "      <td>775.96</td>\n",
       "      <td>1970-01-01 00:26:30.974667000</td>\n",
       "      <td>1970-01-01 00:26:30.974672740</td>\n",
       "      <td>completed</td>\n",
       "      <td>1970-01-01 00:26:30.</td>\n",
       "      <td>1970-01-01 00:26:30.</td>\n",
       "    </tr>\n",
       "  </tbody>\n",
       "</table>\n",
       "</div>"
      ],
      "text/plain": [
       "                    id          account_id in_or_out  pix_amount  \\\n",
       "0  1362907709468179968  509281836645315264   pix_out     1894.77   \n",
       "1  2246794118022659072  509281836645315264   pix_out      419.79   \n",
       "2   165696026045637376  509281836645315264    pix_in      943.61   \n",
       "3   919545932589046400  509281836645315264    pix_in      124.66   \n",
       "4  2001212142240523008  509281836645315264   pix_out      775.96   \n",
       "\n",
       "               pix_requested_at              pix_completed_at     status  \\\n",
       "0 1970-01-01 00:26:19.693633580 1970-01-01 00:26:19.693646070  completed   \n",
       "1 1970-01-01 00:26:27.309244550 1970-01-01 00:26:27.309252480  completed   \n",
       "2 1970-01-01 00:26:49.306218320 1970-01-01 00:26:49.306227350  completed   \n",
       "3 1970-01-01 00:26:26.015734430 1970-01-01 00:26:26.015747590  completed   \n",
       "4 1970-01-01 00:26:30.974667000 1970-01-01 00:26:30.974672740  completed   \n",
       "\n",
       "   pix_requested_at_fmt  pix_completed_at_fmt  \n",
       "0  1970-01-01 00:26:19.  1970-01-01 00:26:19.  \n",
       "1  1970-01-01 00:26:27.  1970-01-01 00:26:27.  \n",
       "2  1970-01-01 00:26:49.  1970-01-01 00:26:49.  \n",
       "3  1970-01-01 00:26:26.  1970-01-01 00:26:26.  \n",
       "4  1970-01-01 00:26:30.  1970-01-01 00:26:30.  "
      ]
     },
     "execution_count": 34,
     "metadata": {},
     "output_type": "execute_result"
    }
   ],
   "source": [
    "d_mov_pix.head()"
   ]
  },
  {
   "cell_type": "code",
   "execution_count": 36,
   "id": "858ccfb4",
   "metadata": {},
   "outputs": [],
   "source": [
    "d_entrada_pix = pd.read_csv(\"entrada_fluxo.csv\", sep=\",\")"
   ]
  },
  {
   "cell_type": "code",
   "execution_count": 37,
   "id": "db680ebe",
   "metadata": {},
   "outputs": [
    {
     "data": {
      "text/html": [
       "<div>\n",
       "<style scoped>\n",
       "    .dataframe tbody tr th:only-of-type {\n",
       "        vertical-align: middle;\n",
       "    }\n",
       "\n",
       "    .dataframe tbody tr th {\n",
       "        vertical-align: top;\n",
       "    }\n",
       "\n",
       "    .dataframe thead th {\n",
       "        text-align: right;\n",
       "    }\n",
       "</style>\n",
       "<table border=\"1\" class=\"dataframe\">\n",
       "  <thead>\n",
       "    <tr style=\"text-align: right;\">\n",
       "      <th></th>\n",
       "      <th>id</th>\n",
       "      <th>account_id</th>\n",
       "      <th>amount</th>\n",
       "      <th>transaction_requested_at</th>\n",
       "      <th>transaction_completed_at</th>\n",
       "      <th>status</th>\n",
       "    </tr>\n",
       "  </thead>\n",
       "  <tbody>\n",
       "    <tr>\n",
       "      <th>0</th>\n",
       "      <td>652457358030649600</td>\n",
       "      <td>509281836645315264</td>\n",
       "      <td>1481.33</td>\n",
       "      <td>1579073609010</td>\n",
       "      <td>1.579074e+12</td>\n",
       "      <td>completed</td>\n",
       "    </tr>\n",
       "    <tr>\n",
       "      <th>1</th>\n",
       "      <td>1622746437516706816</td>\n",
       "      <td>509281836645315264</td>\n",
       "      <td>995.36</td>\n",
       "      <td>1595780510110</td>\n",
       "      <td>1.595781e+12</td>\n",
       "      <td>completed</td>\n",
       "    </tr>\n",
       "    <tr>\n",
       "      <th>2</th>\n",
       "      <td>3058959614108198912</td>\n",
       "      <td>509281836645315264</td>\n",
       "      <td>1434.46</td>\n",
       "      <td>1604881881770</td>\n",
       "      <td>1.604882e+12</td>\n",
       "      <td>completed</td>\n",
       "    </tr>\n",
       "    <tr>\n",
       "      <th>3</th>\n",
       "      <td>457871451423558528</td>\n",
       "      <td>509281836645315264</td>\n",
       "      <td>1222.86</td>\n",
       "      <td>1586867997040</td>\n",
       "      <td>1.586868e+12</td>\n",
       "      <td>completed</td>\n",
       "    </tr>\n",
       "    <tr>\n",
       "      <th>4</th>\n",
       "      <td>1010759752842629248</td>\n",
       "      <td>509281836645315264</td>\n",
       "      <td>1098.50</td>\n",
       "      <td>1595915655430</td>\n",
       "      <td>1.595916e+12</td>\n",
       "      <td>completed</td>\n",
       "    </tr>\n",
       "  </tbody>\n",
       "</table>\n",
       "</div>"
      ],
      "text/plain": [
       "                    id          account_id   amount  transaction_requested_at  \\\n",
       "0   652457358030649600  509281836645315264  1481.33             1579073609010   \n",
       "1  1622746437516706816  509281836645315264   995.36             1595780510110   \n",
       "2  3058959614108198912  509281836645315264  1434.46             1604881881770   \n",
       "3   457871451423558528  509281836645315264  1222.86             1586867997040   \n",
       "4  1010759752842629248  509281836645315264  1098.50             1595915655430   \n",
       "\n",
       "   transaction_completed_at     status  \n",
       "0              1.579074e+12  completed  \n",
       "1              1.595781e+12  completed  \n",
       "2              1.604882e+12  completed  \n",
       "3              1.586868e+12  completed  \n",
       "4              1.595916e+12  completed  "
      ]
     },
     "execution_count": 37,
     "metadata": {},
     "output_type": "execute_result"
    }
   ],
   "source": [
    "d_entrada_pix.head()"
   ]
  },
  {
   "cell_type": "code",
   "execution_count": 38,
   "id": "1b0a0b19",
   "metadata": {},
   "outputs": [
    {
     "name": "stdout",
     "output_type": "stream",
     "text": [
      "<class 'pandas.core.frame.DataFrame'>\n",
      "RangeIndex: 125273 entries, 0 to 125272\n",
      "Data columns (total 6 columns):\n",
      " #   Column                    Non-Null Count   Dtype  \n",
      "---  ------                    --------------   -----  \n",
      " 0   id                        125273 non-null  int64  \n",
      " 1   account_id                125273 non-null  int64  \n",
      " 2   amount                    125273 non-null  float64\n",
      " 3   transaction_requested_at  125273 non-null  int64  \n",
      " 4   transaction_completed_at  118981 non-null  float64\n",
      " 5   status                    125273 non-null  object \n",
      "dtypes: float64(2), int64(3), object(1)\n",
      "memory usage: 5.7+ MB\n"
     ]
    }
   ],
   "source": [
    "d_entrada_pix.info()"
   ]
  },
  {
   "cell_type": "code",
   "execution_count": 39,
   "id": "72fdd57c",
   "metadata": {},
   "outputs": [
    {
     "data": {
      "text/plain": [
       "id                             0\n",
       "account_id                     0\n",
       "amount                         0\n",
       "transaction_requested_at       0\n",
       "transaction_completed_at    6292\n",
       "status                         0\n",
       "dtype: int64"
      ]
     },
     "execution_count": 39,
     "metadata": {},
     "output_type": "execute_result"
    }
   ],
   "source": [
    "d_entrada_pix.isnull().sum() "
   ]
  },
  {
   "cell_type": "code",
   "execution_count": 40,
   "id": "fc4862f9",
   "metadata": {},
   "outputs": [
    {
     "data": {
      "text/plain": [
       "np.int64(0)"
      ]
     },
     "execution_count": 40,
     "metadata": {},
     "output_type": "execute_result"
    }
   ],
   "source": [
    "d_entrada_pix.duplicated().sum() "
   ]
  },
  {
   "cell_type": "code",
   "execution_count": 41,
   "id": "01079454",
   "metadata": {},
   "outputs": [],
   "source": [
    "\n",
    "# Converte as colunas para datetime\n",
    "d_entrada_pix['transaction_requested_at'] = pd.to_datetime(d_entrada_pix['transaction_requested_at'])\n",
    "d_entrada_pix['transaction_completed_at'] = pd.to_datetime(d_entrada_pix['transaction_completed_at'])\n",
    "\n",
    "d_entrada_pix['transaction_requested_at_fmt'] = d_entrada_pix['transaction_requested_at'].dt.strftime('%Y-%m-%d %H:%M:%S.%f').str[:-6]\n",
    "d_entrada_pix['transaction_completed_at_fmt'] = d_entrada_pix['transaction_completed_at'].dt.strftime('%Y-%m-%d %H:%M:%S.%f').str[:-6]\n"
   ]
  },
  {
   "cell_type": "code",
   "execution_count": 42,
   "id": "2cb69278",
   "metadata": {},
   "outputs": [
    {
     "data": {
      "text/html": [
       "<div>\n",
       "<style scoped>\n",
       "    .dataframe tbody tr th:only-of-type {\n",
       "        vertical-align: middle;\n",
       "    }\n",
       "\n",
       "    .dataframe tbody tr th {\n",
       "        vertical-align: top;\n",
       "    }\n",
       "\n",
       "    .dataframe thead th {\n",
       "        text-align: right;\n",
       "    }\n",
       "</style>\n",
       "<table border=\"1\" class=\"dataframe\">\n",
       "  <thead>\n",
       "    <tr style=\"text-align: right;\">\n",
       "      <th></th>\n",
       "      <th>id</th>\n",
       "      <th>account_id</th>\n",
       "      <th>amount</th>\n",
       "      <th>transaction_requested_at</th>\n",
       "      <th>transaction_completed_at</th>\n",
       "      <th>status</th>\n",
       "      <th>transaction_requested_at_fmt</th>\n",
       "      <th>transaction_completed_at_fmt</th>\n",
       "    </tr>\n",
       "  </thead>\n",
       "  <tbody>\n",
       "    <tr>\n",
       "      <th>0</th>\n",
       "      <td>652457358030649600</td>\n",
       "      <td>509281836645315264</td>\n",
       "      <td>1481.33</td>\n",
       "      <td>1970-01-01 00:26:19.073609010</td>\n",
       "      <td>1970-01-01 00:26:19.073618020</td>\n",
       "      <td>completed</td>\n",
       "      <td>1970-01-01 00:26:19.</td>\n",
       "      <td>1970-01-01 00:26:19.</td>\n",
       "    </tr>\n",
       "    <tr>\n",
       "      <th>1</th>\n",
       "      <td>1622746437516706816</td>\n",
       "      <td>509281836645315264</td>\n",
       "      <td>995.36</td>\n",
       "      <td>1970-01-01 00:26:35.780510110</td>\n",
       "      <td>1970-01-01 00:26:35.780513170</td>\n",
       "      <td>completed</td>\n",
       "      <td>1970-01-01 00:26:35.</td>\n",
       "      <td>1970-01-01 00:26:35.</td>\n",
       "    </tr>\n",
       "    <tr>\n",
       "      <th>2</th>\n",
       "      <td>3058959614108198912</td>\n",
       "      <td>509281836645315264</td>\n",
       "      <td>1434.46</td>\n",
       "      <td>1970-01-01 00:26:44.881881770</td>\n",
       "      <td>1970-01-01 00:26:44.881898550</td>\n",
       "      <td>completed</td>\n",
       "      <td>1970-01-01 00:26:44.</td>\n",
       "      <td>1970-01-01 00:26:44.</td>\n",
       "    </tr>\n",
       "    <tr>\n",
       "      <th>3</th>\n",
       "      <td>457871451423558528</td>\n",
       "      <td>509281836645315264</td>\n",
       "      <td>1222.86</td>\n",
       "      <td>1970-01-01 00:26:26.867997040</td>\n",
       "      <td>1970-01-01 00:26:26.868000400</td>\n",
       "      <td>completed</td>\n",
       "      <td>1970-01-01 00:26:26.</td>\n",
       "      <td>1970-01-01 00:26:26.</td>\n",
       "    </tr>\n",
       "    <tr>\n",
       "      <th>4</th>\n",
       "      <td>1010759752842629248</td>\n",
       "      <td>509281836645315264</td>\n",
       "      <td>1098.50</td>\n",
       "      <td>1970-01-01 00:26:35.915655430</td>\n",
       "      <td>1970-01-01 00:26:35.915671260</td>\n",
       "      <td>completed</td>\n",
       "      <td>1970-01-01 00:26:35.</td>\n",
       "      <td>1970-01-01 00:26:35.</td>\n",
       "    </tr>\n",
       "    <tr>\n",
       "      <th>...</th>\n",
       "      <td>...</td>\n",
       "      <td>...</td>\n",
       "      <td>...</td>\n",
       "      <td>...</td>\n",
       "      <td>...</td>\n",
       "      <td>...</td>\n",
       "      <td>...</td>\n",
       "      <td>...</td>\n",
       "    </tr>\n",
       "    <tr>\n",
       "      <th>995</th>\n",
       "      <td>944969643170225152</td>\n",
       "      <td>3227781091075923968</td>\n",
       "      <td>1779.16</td>\n",
       "      <td>1970-01-01 00:26:37.001839090</td>\n",
       "      <td>1970-01-01 00:26:37.001855310</td>\n",
       "      <td>completed</td>\n",
       "      <td>1970-01-01 00:26:37.</td>\n",
       "      <td>1970-01-01 00:26:37.</td>\n",
       "    </tr>\n",
       "    <tr>\n",
       "      <th>996</th>\n",
       "      <td>577317992167156736</td>\n",
       "      <td>3227781091075923968</td>\n",
       "      <td>1507.06</td>\n",
       "      <td>1970-01-01 00:26:33.291068720</td>\n",
       "      <td>NaT</td>\n",
       "      <td>failed</td>\n",
       "      <td>1970-01-01 00:26:33.</td>\n",
       "      <td>NaN</td>\n",
       "    </tr>\n",
       "    <tr>\n",
       "      <th>997</th>\n",
       "      <td>2023415790583783680</td>\n",
       "      <td>3227781091075923968</td>\n",
       "      <td>1259.91</td>\n",
       "      <td>1970-01-01 00:26:22.589581490</td>\n",
       "      <td>1970-01-01 00:26:22.589591090</td>\n",
       "      <td>completed</td>\n",
       "      <td>1970-01-01 00:26:22.</td>\n",
       "      <td>1970-01-01 00:26:22.</td>\n",
       "    </tr>\n",
       "    <tr>\n",
       "      <th>998</th>\n",
       "      <td>3380140962074908672</td>\n",
       "      <td>3227781091075923968</td>\n",
       "      <td>67.04</td>\n",
       "      <td>1970-01-01 00:26:44.921675740</td>\n",
       "      <td>1970-01-01 00:26:44.921692070</td>\n",
       "      <td>completed</td>\n",
       "      <td>1970-01-01 00:26:44.</td>\n",
       "      <td>1970-01-01 00:26:44.</td>\n",
       "    </tr>\n",
       "    <tr>\n",
       "      <th>999</th>\n",
       "      <td>3180986203386702848</td>\n",
       "      <td>3227781091075923968</td>\n",
       "      <td>515.55</td>\n",
       "      <td>1970-01-01 00:26:26.503684200</td>\n",
       "      <td>1970-01-01 00:26:26.503694440</td>\n",
       "      <td>completed</td>\n",
       "      <td>1970-01-01 00:26:26.</td>\n",
       "      <td>1970-01-01 00:26:26.</td>\n",
       "    </tr>\n",
       "  </tbody>\n",
       "</table>\n",
       "<p>1000 rows × 8 columns</p>\n",
       "</div>"
      ],
      "text/plain": [
       "                      id           account_id   amount  \\\n",
       "0     652457358030649600   509281836645315264  1481.33   \n",
       "1    1622746437516706816   509281836645315264   995.36   \n",
       "2    3058959614108198912   509281836645315264  1434.46   \n",
       "3     457871451423558528   509281836645315264  1222.86   \n",
       "4    1010759752842629248   509281836645315264  1098.50   \n",
       "..                   ...                  ...      ...   \n",
       "995   944969643170225152  3227781091075923968  1779.16   \n",
       "996   577317992167156736  3227781091075923968  1507.06   \n",
       "997  2023415790583783680  3227781091075923968  1259.91   \n",
       "998  3380140962074908672  3227781091075923968    67.04   \n",
       "999  3180986203386702848  3227781091075923968   515.55   \n",
       "\n",
       "         transaction_requested_at      transaction_completed_at     status  \\\n",
       "0   1970-01-01 00:26:19.073609010 1970-01-01 00:26:19.073618020  completed   \n",
       "1   1970-01-01 00:26:35.780510110 1970-01-01 00:26:35.780513170  completed   \n",
       "2   1970-01-01 00:26:44.881881770 1970-01-01 00:26:44.881898550  completed   \n",
       "3   1970-01-01 00:26:26.867997040 1970-01-01 00:26:26.868000400  completed   \n",
       "4   1970-01-01 00:26:35.915655430 1970-01-01 00:26:35.915671260  completed   \n",
       "..                            ...                           ...        ...   \n",
       "995 1970-01-01 00:26:37.001839090 1970-01-01 00:26:37.001855310  completed   \n",
       "996 1970-01-01 00:26:33.291068720                           NaT     failed   \n",
       "997 1970-01-01 00:26:22.589581490 1970-01-01 00:26:22.589591090  completed   \n",
       "998 1970-01-01 00:26:44.921675740 1970-01-01 00:26:44.921692070  completed   \n",
       "999 1970-01-01 00:26:26.503684200 1970-01-01 00:26:26.503694440  completed   \n",
       "\n",
       "    transaction_requested_at_fmt transaction_completed_at_fmt  \n",
       "0           1970-01-01 00:26:19.         1970-01-01 00:26:19.  \n",
       "1           1970-01-01 00:26:35.         1970-01-01 00:26:35.  \n",
       "2           1970-01-01 00:26:44.         1970-01-01 00:26:44.  \n",
       "3           1970-01-01 00:26:26.         1970-01-01 00:26:26.  \n",
       "4           1970-01-01 00:26:35.         1970-01-01 00:26:35.  \n",
       "..                           ...                          ...  \n",
       "995         1970-01-01 00:26:37.         1970-01-01 00:26:37.  \n",
       "996         1970-01-01 00:26:33.                          NaN  \n",
       "997         1970-01-01 00:26:22.         1970-01-01 00:26:22.  \n",
       "998         1970-01-01 00:26:44.         1970-01-01 00:26:44.  \n",
       "999         1970-01-01 00:26:26.         1970-01-01 00:26:26.  \n",
       "\n",
       "[1000 rows x 8 columns]"
      ]
     },
     "execution_count": 42,
     "metadata": {},
     "output_type": "execute_result"
    }
   ],
   "source": [
    "d_entrada_pix.head(1000)"
   ]
  },
  {
   "cell_type": "code",
   "execution_count": 44,
   "id": "e5e8869a",
   "metadata": {},
   "outputs": [],
   "source": [
    "d_saida_pix = pd.read_csv(\"saida_fluxo.csv\", sep=\",\")"
   ]
  },
  {
   "cell_type": "code",
   "execution_count": 45,
   "id": "c012162d",
   "metadata": {},
   "outputs": [],
   "source": [
    "d_saida_pix['transaction_requested_at'] = pd.to_datetime(d_saida_pix['transaction_requested_at'])\n",
    "d_saida_pix['transaction_completed_at'] = pd.to_datetime(d_saida_pix['transaction_completed_at'])\n",
    "\n",
    "d_saida_pix['transaction_requested_at_fmt'] = d_saida_pix['transaction_requested_at'].dt.strftime('%Y-%m-%d %H:%M:%S.%f').str[:-6]\n",
    "d_saida_pix['transaction_completed_at_fmt'] = d_saida_pix['transaction_completed_at'].dt.strftime('%Y-%m-%d %H:%M:%S.%f').str[:-6]"
   ]
  },
  {
   "cell_type": "code",
   "execution_count": 46,
   "id": "7ae7a80d",
   "metadata": {},
   "outputs": [
    {
     "data": {
      "text/html": [
       "<div>\n",
       "<style scoped>\n",
       "    .dataframe tbody tr th:only-of-type {\n",
       "        vertical-align: middle;\n",
       "    }\n",
       "\n",
       "    .dataframe tbody tr th {\n",
       "        vertical-align: top;\n",
       "    }\n",
       "\n",
       "    .dataframe thead th {\n",
       "        text-align: right;\n",
       "    }\n",
       "</style>\n",
       "<table border=\"1\" class=\"dataframe\">\n",
       "  <thead>\n",
       "    <tr style=\"text-align: right;\">\n",
       "      <th></th>\n",
       "      <th>id</th>\n",
       "      <th>account_id</th>\n",
       "      <th>amount</th>\n",
       "      <th>transaction_requested_at</th>\n",
       "      <th>transaction_completed_at</th>\n",
       "      <th>status</th>\n",
       "      <th>transaction_requested_at_fmt</th>\n",
       "      <th>transaction_completed_at_fmt</th>\n",
       "    </tr>\n",
       "  </thead>\n",
       "  <tbody>\n",
       "    <tr>\n",
       "      <th>0</th>\n",
       "      <td>327917790912071680</td>\n",
       "      <td>509281836645315264</td>\n",
       "      <td>1794.11</td>\n",
       "      <td>1970-01-01 00:26:18.150053870</td>\n",
       "      <td>1970-01-01 00:26:18.150055960</td>\n",
       "      <td>completed</td>\n",
       "      <td>1970-01-01 00:26:18.</td>\n",
       "      <td>1970-01-01 00:26:18.</td>\n",
       "    </tr>\n",
       "    <tr>\n",
       "      <th>1</th>\n",
       "      <td>3029924863588401664</td>\n",
       "      <td>509281836645315264</td>\n",
       "      <td>1197.53</td>\n",
       "      <td>1970-01-01 00:26:42.776874060</td>\n",
       "      <td>1970-01-01 00:26:42.776879440</td>\n",
       "      <td>completed</td>\n",
       "      <td>1970-01-01 00:26:42.</td>\n",
       "      <td>1970-01-01 00:26:42.</td>\n",
       "    </tr>\n",
       "    <tr>\n",
       "      <th>2</th>\n",
       "      <td>591077090340000512</td>\n",
       "      <td>509281836645315264</td>\n",
       "      <td>641.24</td>\n",
       "      <td>1970-01-01 00:26:45.026786950</td>\n",
       "      <td>1970-01-01 00:26:45.026790330</td>\n",
       "      <td>completed</td>\n",
       "      <td>1970-01-01 00:26:45.</td>\n",
       "      <td>1970-01-01 00:26:45.</td>\n",
       "    </tr>\n",
       "    <tr>\n",
       "      <th>3</th>\n",
       "      <td>64049455087604832</td>\n",
       "      <td>509281836645315264</td>\n",
       "      <td>1698.52</td>\n",
       "      <td>1970-01-01 00:26:28.839389390</td>\n",
       "      <td>1970-01-01 00:26:28.839402200</td>\n",
       "      <td>completed</td>\n",
       "      <td>1970-01-01 00:26:28.</td>\n",
       "      <td>1970-01-01 00:26:28.</td>\n",
       "    </tr>\n",
       "    <tr>\n",
       "      <th>4</th>\n",
       "      <td>2594422021474537984</td>\n",
       "      <td>509281836645315264</td>\n",
       "      <td>1140.48</td>\n",
       "      <td>1970-01-01 00:26:38.670849280</td>\n",
       "      <td>1970-01-01 00:26:38.670863910</td>\n",
       "      <td>completed</td>\n",
       "      <td>1970-01-01 00:26:38.</td>\n",
       "      <td>1970-01-01 00:26:38.</td>\n",
       "    </tr>\n",
       "    <tr>\n",
       "      <th>...</th>\n",
       "      <td>...</td>\n",
       "      <td>...</td>\n",
       "      <td>...</td>\n",
       "      <td>...</td>\n",
       "      <td>...</td>\n",
       "      <td>...</td>\n",
       "      <td>...</td>\n",
       "      <td>...</td>\n",
       "    </tr>\n",
       "    <tr>\n",
       "      <th>995</th>\n",
       "      <td>3172606988527377920</td>\n",
       "      <td>1092591810760307072</td>\n",
       "      <td>1291.03</td>\n",
       "      <td>1970-01-01 00:26:43.967111570</td>\n",
       "      <td>1970-01-01 00:26:43.967117420</td>\n",
       "      <td>completed</td>\n",
       "      <td>1970-01-01 00:26:43.</td>\n",
       "      <td>1970-01-01 00:26:43.</td>\n",
       "    </tr>\n",
       "    <tr>\n",
       "      <th>996</th>\n",
       "      <td>237017366219139200</td>\n",
       "      <td>1092591810760307072</td>\n",
       "      <td>308.71</td>\n",
       "      <td>1970-01-01 00:26:29.480867650</td>\n",
       "      <td>1970-01-01 00:26:29.480885180</td>\n",
       "      <td>completed</td>\n",
       "      <td>1970-01-01 00:26:29.</td>\n",
       "      <td>1970-01-01 00:26:29.</td>\n",
       "    </tr>\n",
       "    <tr>\n",
       "      <th>997</th>\n",
       "      <td>941147987645160320</td>\n",
       "      <td>1092591810760307072</td>\n",
       "      <td>1656.44</td>\n",
       "      <td>1970-01-01 00:26:39.435902270</td>\n",
       "      <td>1970-01-01 00:26:39.435905130</td>\n",
       "      <td>completed</td>\n",
       "      <td>1970-01-01 00:26:39.</td>\n",
       "      <td>1970-01-01 00:26:39.</td>\n",
       "    </tr>\n",
       "    <tr>\n",
       "      <th>998</th>\n",
       "      <td>3029207615073377792</td>\n",
       "      <td>1092591810760307072</td>\n",
       "      <td>1211.69</td>\n",
       "      <td>1970-01-01 00:26:21.558729680</td>\n",
       "      <td>NaT</td>\n",
       "      <td>failed</td>\n",
       "      <td>1970-01-01 00:26:21.</td>\n",
       "      <td>NaN</td>\n",
       "    </tr>\n",
       "    <tr>\n",
       "      <th>999</th>\n",
       "      <td>1919102238108061696</td>\n",
       "      <td>1092591810760307072</td>\n",
       "      <td>81.67</td>\n",
       "      <td>1970-01-01 00:26:25.447707230</td>\n",
       "      <td>1970-01-01 00:26:25.447711260</td>\n",
       "      <td>completed</td>\n",
       "      <td>1970-01-01 00:26:25.</td>\n",
       "      <td>1970-01-01 00:26:25.</td>\n",
       "    </tr>\n",
       "  </tbody>\n",
       "</table>\n",
       "<p>1000 rows × 8 columns</p>\n",
       "</div>"
      ],
      "text/plain": [
       "                      id           account_id   amount  \\\n",
       "0     327917790912071680   509281836645315264  1794.11   \n",
       "1    3029924863588401664   509281836645315264  1197.53   \n",
       "2     591077090340000512   509281836645315264   641.24   \n",
       "3      64049455087604832   509281836645315264  1698.52   \n",
       "4    2594422021474537984   509281836645315264  1140.48   \n",
       "..                   ...                  ...      ...   \n",
       "995  3172606988527377920  1092591810760307072  1291.03   \n",
       "996   237017366219139200  1092591810760307072   308.71   \n",
       "997   941147987645160320  1092591810760307072  1656.44   \n",
       "998  3029207615073377792  1092591810760307072  1211.69   \n",
       "999  1919102238108061696  1092591810760307072    81.67   \n",
       "\n",
       "         transaction_requested_at      transaction_completed_at     status  \\\n",
       "0   1970-01-01 00:26:18.150053870 1970-01-01 00:26:18.150055960  completed   \n",
       "1   1970-01-01 00:26:42.776874060 1970-01-01 00:26:42.776879440  completed   \n",
       "2   1970-01-01 00:26:45.026786950 1970-01-01 00:26:45.026790330  completed   \n",
       "3   1970-01-01 00:26:28.839389390 1970-01-01 00:26:28.839402200  completed   \n",
       "4   1970-01-01 00:26:38.670849280 1970-01-01 00:26:38.670863910  completed   \n",
       "..                            ...                           ...        ...   \n",
       "995 1970-01-01 00:26:43.967111570 1970-01-01 00:26:43.967117420  completed   \n",
       "996 1970-01-01 00:26:29.480867650 1970-01-01 00:26:29.480885180  completed   \n",
       "997 1970-01-01 00:26:39.435902270 1970-01-01 00:26:39.435905130  completed   \n",
       "998 1970-01-01 00:26:21.558729680                           NaT     failed   \n",
       "999 1970-01-01 00:26:25.447707230 1970-01-01 00:26:25.447711260  completed   \n",
       "\n",
       "    transaction_requested_at_fmt transaction_completed_at_fmt  \n",
       "0           1970-01-01 00:26:18.         1970-01-01 00:26:18.  \n",
       "1           1970-01-01 00:26:42.         1970-01-01 00:26:42.  \n",
       "2           1970-01-01 00:26:45.         1970-01-01 00:26:45.  \n",
       "3           1970-01-01 00:26:28.         1970-01-01 00:26:28.  \n",
       "4           1970-01-01 00:26:38.         1970-01-01 00:26:38.  \n",
       "..                           ...                          ...  \n",
       "995         1970-01-01 00:26:43.         1970-01-01 00:26:43.  \n",
       "996         1970-01-01 00:26:29.         1970-01-01 00:26:29.  \n",
       "997         1970-01-01 00:26:39.         1970-01-01 00:26:39.  \n",
       "998         1970-01-01 00:26:21.                          NaN  \n",
       "999         1970-01-01 00:26:25.         1970-01-01 00:26:25.  \n",
       "\n",
       "[1000 rows x 8 columns]"
      ]
     },
     "execution_count": 46,
     "metadata": {},
     "output_type": "execute_result"
    }
   ],
   "source": [
    "d_saida_pix.head(1000)"
   ]
  },
  {
   "cell_type": "code",
   "execution_count": 47,
   "id": "80a43869",
   "metadata": {},
   "outputs": [],
   "source": [
    "d_entrada_saida = pd.merge(d_entrada_pix, d_saida_pix, on='account_id', how='left')"
   ]
  },
  {
   "cell_type": "code",
   "execution_count": 48,
   "id": "2b377c42",
   "metadata": {},
   "outputs": [
    {
     "data": {
      "text/html": [
       "<div>\n",
       "<style scoped>\n",
       "    .dataframe tbody tr th:only-of-type {\n",
       "        vertical-align: middle;\n",
       "    }\n",
       "\n",
       "    .dataframe tbody tr th {\n",
       "        vertical-align: top;\n",
       "    }\n",
       "\n",
       "    .dataframe thead th {\n",
       "        text-align: right;\n",
       "    }\n",
       "</style>\n",
       "<table border=\"1\" class=\"dataframe\">\n",
       "  <thead>\n",
       "    <tr style=\"text-align: right;\">\n",
       "      <th></th>\n",
       "      <th>id_x</th>\n",
       "      <th>account_id</th>\n",
       "      <th>amount_x</th>\n",
       "      <th>transaction_requested_at_x</th>\n",
       "      <th>transaction_completed_at_x</th>\n",
       "      <th>status_x</th>\n",
       "      <th>transaction_requested_at_fmt_x</th>\n",
       "      <th>transaction_completed_at_fmt_x</th>\n",
       "      <th>id_y</th>\n",
       "      <th>amount_y</th>\n",
       "      <th>transaction_requested_at_y</th>\n",
       "      <th>transaction_completed_at_y</th>\n",
       "      <th>status_y</th>\n",
       "      <th>transaction_requested_at_fmt_y</th>\n",
       "      <th>transaction_completed_at_fmt_y</th>\n",
       "    </tr>\n",
       "  </thead>\n",
       "  <tbody>\n",
       "    <tr>\n",
       "      <th>0</th>\n",
       "      <td>652457358030649600</td>\n",
       "      <td>509281836645315264</td>\n",
       "      <td>1481.33</td>\n",
       "      <td>1970-01-01 00:26:19.073609010</td>\n",
       "      <td>1970-01-01 00:26:19.073618020</td>\n",
       "      <td>completed</td>\n",
       "      <td>1970-01-01 00:26:19.</td>\n",
       "      <td>1970-01-01 00:26:19.</td>\n",
       "      <td>3.279178e+17</td>\n",
       "      <td>1794.11</td>\n",
       "      <td>1970-01-01 00:26:18.150053870</td>\n",
       "      <td>1970-01-01 00:26:18.150055960</td>\n",
       "      <td>completed</td>\n",
       "      <td>1970-01-01 00:26:18.</td>\n",
       "      <td>1970-01-01 00:26:18.</td>\n",
       "    </tr>\n",
       "    <tr>\n",
       "      <th>1</th>\n",
       "      <td>652457358030649600</td>\n",
       "      <td>509281836645315264</td>\n",
       "      <td>1481.33</td>\n",
       "      <td>1970-01-01 00:26:19.073609010</td>\n",
       "      <td>1970-01-01 00:26:19.073618020</td>\n",
       "      <td>completed</td>\n",
       "      <td>1970-01-01 00:26:19.</td>\n",
       "      <td>1970-01-01 00:26:19.</td>\n",
       "      <td>3.029925e+18</td>\n",
       "      <td>1197.53</td>\n",
       "      <td>1970-01-01 00:26:42.776874060</td>\n",
       "      <td>1970-01-01 00:26:42.776879440</td>\n",
       "      <td>completed</td>\n",
       "      <td>1970-01-01 00:26:42.</td>\n",
       "      <td>1970-01-01 00:26:42.</td>\n",
       "    </tr>\n",
       "    <tr>\n",
       "      <th>2</th>\n",
       "      <td>652457358030649600</td>\n",
       "      <td>509281836645315264</td>\n",
       "      <td>1481.33</td>\n",
       "      <td>1970-01-01 00:26:19.073609010</td>\n",
       "      <td>1970-01-01 00:26:19.073618020</td>\n",
       "      <td>completed</td>\n",
       "      <td>1970-01-01 00:26:19.</td>\n",
       "      <td>1970-01-01 00:26:19.</td>\n",
       "      <td>5.910771e+17</td>\n",
       "      <td>641.24</td>\n",
       "      <td>1970-01-01 00:26:45.026786950</td>\n",
       "      <td>1970-01-01 00:26:45.026790330</td>\n",
       "      <td>completed</td>\n",
       "      <td>1970-01-01 00:26:45.</td>\n",
       "      <td>1970-01-01 00:26:45.</td>\n",
       "    </tr>\n",
       "    <tr>\n",
       "      <th>3</th>\n",
       "      <td>652457358030649600</td>\n",
       "      <td>509281836645315264</td>\n",
       "      <td>1481.33</td>\n",
       "      <td>1970-01-01 00:26:19.073609010</td>\n",
       "      <td>1970-01-01 00:26:19.073618020</td>\n",
       "      <td>completed</td>\n",
       "      <td>1970-01-01 00:26:19.</td>\n",
       "      <td>1970-01-01 00:26:19.</td>\n",
       "      <td>6.404946e+16</td>\n",
       "      <td>1698.52</td>\n",
       "      <td>1970-01-01 00:26:28.839389390</td>\n",
       "      <td>1970-01-01 00:26:28.839402200</td>\n",
       "      <td>completed</td>\n",
       "      <td>1970-01-01 00:26:28.</td>\n",
       "      <td>1970-01-01 00:26:28.</td>\n",
       "    </tr>\n",
       "    <tr>\n",
       "      <th>4</th>\n",
       "      <td>652457358030649600</td>\n",
       "      <td>509281836645315264</td>\n",
       "      <td>1481.33</td>\n",
       "      <td>1970-01-01 00:26:19.073609010</td>\n",
       "      <td>1970-01-01 00:26:19.073618020</td>\n",
       "      <td>completed</td>\n",
       "      <td>1970-01-01 00:26:19.</td>\n",
       "      <td>1970-01-01 00:26:19.</td>\n",
       "      <td>2.594422e+18</td>\n",
       "      <td>1140.48</td>\n",
       "      <td>1970-01-01 00:26:38.670849280</td>\n",
       "      <td>1970-01-01 00:26:38.670863910</td>\n",
       "      <td>completed</td>\n",
       "      <td>1970-01-01 00:26:38.</td>\n",
       "      <td>1970-01-01 00:26:38.</td>\n",
       "    </tr>\n",
       "    <tr>\n",
       "      <th>...</th>\n",
       "      <td>...</td>\n",
       "      <td>...</td>\n",
       "      <td>...</td>\n",
       "      <td>...</td>\n",
       "      <td>...</td>\n",
       "      <td>...</td>\n",
       "      <td>...</td>\n",
       "      <td>...</td>\n",
       "      <td>...</td>\n",
       "      <td>...</td>\n",
       "      <td>...</td>\n",
       "      <td>...</td>\n",
       "      <td>...</td>\n",
       "      <td>...</td>\n",
       "      <td>...</td>\n",
       "    </tr>\n",
       "    <tr>\n",
       "      <th>995</th>\n",
       "      <td>2288422297151316736</td>\n",
       "      <td>509281836645315264</td>\n",
       "      <td>1978.68</td>\n",
       "      <td>1970-01-01 00:26:35.475239050</td>\n",
       "      <td>1970-01-01 00:26:35.475254430</td>\n",
       "      <td>completed</td>\n",
       "      <td>1970-01-01 00:26:35.</td>\n",
       "      <td>1970-01-01 00:26:35.</td>\n",
       "      <td>3.020104e+18</td>\n",
       "      <td>1415.81</td>\n",
       "      <td>1970-01-01 00:26:29.312814200</td>\n",
       "      <td>1970-01-01 00:26:29.312829790</td>\n",
       "      <td>completed</td>\n",
       "      <td>1970-01-01 00:26:29.</td>\n",
       "      <td>1970-01-01 00:26:29.</td>\n",
       "    </tr>\n",
       "    <tr>\n",
       "      <th>996</th>\n",
       "      <td>2288422297151316736</td>\n",
       "      <td>509281836645315264</td>\n",
       "      <td>1978.68</td>\n",
       "      <td>1970-01-01 00:26:35.475239050</td>\n",
       "      <td>1970-01-01 00:26:35.475254430</td>\n",
       "      <td>completed</td>\n",
       "      <td>1970-01-01 00:26:35.</td>\n",
       "      <td>1970-01-01 00:26:35.</td>\n",
       "      <td>9.774365e+17</td>\n",
       "      <td>483.66</td>\n",
       "      <td>1970-01-01 00:26:40.899767260</td>\n",
       "      <td>1970-01-01 00:26:40.899775290</td>\n",
       "      <td>completed</td>\n",
       "      <td>1970-01-01 00:26:40.</td>\n",
       "      <td>1970-01-01 00:26:40.</td>\n",
       "    </tr>\n",
       "    <tr>\n",
       "      <th>997</th>\n",
       "      <td>2288422297151316736</td>\n",
       "      <td>509281836645315264</td>\n",
       "      <td>1978.68</td>\n",
       "      <td>1970-01-01 00:26:35.475239050</td>\n",
       "      <td>1970-01-01 00:26:35.475254430</td>\n",
       "      <td>completed</td>\n",
       "      <td>1970-01-01 00:26:35.</td>\n",
       "      <td>1970-01-01 00:26:35.</td>\n",
       "      <td>1.773213e+18</td>\n",
       "      <td>444.32</td>\n",
       "      <td>1970-01-01 00:26:21.394310390</td>\n",
       "      <td>1970-01-01 00:26:21.394312360</td>\n",
       "      <td>completed</td>\n",
       "      <td>1970-01-01 00:26:21.</td>\n",
       "      <td>1970-01-01 00:26:21.</td>\n",
       "    </tr>\n",
       "    <tr>\n",
       "      <th>998</th>\n",
       "      <td>2288422297151316736</td>\n",
       "      <td>509281836645315264</td>\n",
       "      <td>1978.68</td>\n",
       "      <td>1970-01-01 00:26:35.475239050</td>\n",
       "      <td>1970-01-01 00:26:35.475254430</td>\n",
       "      <td>completed</td>\n",
       "      <td>1970-01-01 00:26:35.</td>\n",
       "      <td>1970-01-01 00:26:35.</td>\n",
       "      <td>1.154251e+18</td>\n",
       "      <td>446.74</td>\n",
       "      <td>1970-01-01 00:26:18.851460990</td>\n",
       "      <td>1970-01-01 00:26:18.851473380</td>\n",
       "      <td>completed</td>\n",
       "      <td>1970-01-01 00:26:18.</td>\n",
       "      <td>1970-01-01 00:26:18.</td>\n",
       "    </tr>\n",
       "    <tr>\n",
       "      <th>999</th>\n",
       "      <td>2288422297151316736</td>\n",
       "      <td>509281836645315264</td>\n",
       "      <td>1978.68</td>\n",
       "      <td>1970-01-01 00:26:35.475239050</td>\n",
       "      <td>1970-01-01 00:26:35.475254430</td>\n",
       "      <td>completed</td>\n",
       "      <td>1970-01-01 00:26:35.</td>\n",
       "      <td>1970-01-01 00:26:35.</td>\n",
       "      <td>6.752385e+17</td>\n",
       "      <td>907.17</td>\n",
       "      <td>1970-01-01 00:26:47.418656570</td>\n",
       "      <td>1970-01-01 00:26:47.418670640</td>\n",
       "      <td>completed</td>\n",
       "      <td>1970-01-01 00:26:47.</td>\n",
       "      <td>1970-01-01 00:26:47.</td>\n",
       "    </tr>\n",
       "  </tbody>\n",
       "</table>\n",
       "<p>1000 rows × 15 columns</p>\n",
       "</div>"
      ],
      "text/plain": [
       "                    id_x          account_id  amount_x  \\\n",
       "0     652457358030649600  509281836645315264   1481.33   \n",
       "1     652457358030649600  509281836645315264   1481.33   \n",
       "2     652457358030649600  509281836645315264   1481.33   \n",
       "3     652457358030649600  509281836645315264   1481.33   \n",
       "4     652457358030649600  509281836645315264   1481.33   \n",
       "..                   ...                 ...       ...   \n",
       "995  2288422297151316736  509281836645315264   1978.68   \n",
       "996  2288422297151316736  509281836645315264   1978.68   \n",
       "997  2288422297151316736  509281836645315264   1978.68   \n",
       "998  2288422297151316736  509281836645315264   1978.68   \n",
       "999  2288422297151316736  509281836645315264   1978.68   \n",
       "\n",
       "       transaction_requested_at_x    transaction_completed_at_x   status_x  \\\n",
       "0   1970-01-01 00:26:19.073609010 1970-01-01 00:26:19.073618020  completed   \n",
       "1   1970-01-01 00:26:19.073609010 1970-01-01 00:26:19.073618020  completed   \n",
       "2   1970-01-01 00:26:19.073609010 1970-01-01 00:26:19.073618020  completed   \n",
       "3   1970-01-01 00:26:19.073609010 1970-01-01 00:26:19.073618020  completed   \n",
       "4   1970-01-01 00:26:19.073609010 1970-01-01 00:26:19.073618020  completed   \n",
       "..                            ...                           ...        ...   \n",
       "995 1970-01-01 00:26:35.475239050 1970-01-01 00:26:35.475254430  completed   \n",
       "996 1970-01-01 00:26:35.475239050 1970-01-01 00:26:35.475254430  completed   \n",
       "997 1970-01-01 00:26:35.475239050 1970-01-01 00:26:35.475254430  completed   \n",
       "998 1970-01-01 00:26:35.475239050 1970-01-01 00:26:35.475254430  completed   \n",
       "999 1970-01-01 00:26:35.475239050 1970-01-01 00:26:35.475254430  completed   \n",
       "\n",
       "    transaction_requested_at_fmt_x transaction_completed_at_fmt_x  \\\n",
       "0             1970-01-01 00:26:19.           1970-01-01 00:26:19.   \n",
       "1             1970-01-01 00:26:19.           1970-01-01 00:26:19.   \n",
       "2             1970-01-01 00:26:19.           1970-01-01 00:26:19.   \n",
       "3             1970-01-01 00:26:19.           1970-01-01 00:26:19.   \n",
       "4             1970-01-01 00:26:19.           1970-01-01 00:26:19.   \n",
       "..                             ...                            ...   \n",
       "995           1970-01-01 00:26:35.           1970-01-01 00:26:35.   \n",
       "996           1970-01-01 00:26:35.           1970-01-01 00:26:35.   \n",
       "997           1970-01-01 00:26:35.           1970-01-01 00:26:35.   \n",
       "998           1970-01-01 00:26:35.           1970-01-01 00:26:35.   \n",
       "999           1970-01-01 00:26:35.           1970-01-01 00:26:35.   \n",
       "\n",
       "             id_y  amount_y    transaction_requested_at_y  \\\n",
       "0    3.279178e+17   1794.11 1970-01-01 00:26:18.150053870   \n",
       "1    3.029925e+18   1197.53 1970-01-01 00:26:42.776874060   \n",
       "2    5.910771e+17    641.24 1970-01-01 00:26:45.026786950   \n",
       "3    6.404946e+16   1698.52 1970-01-01 00:26:28.839389390   \n",
       "4    2.594422e+18   1140.48 1970-01-01 00:26:38.670849280   \n",
       "..            ...       ...                           ...   \n",
       "995  3.020104e+18   1415.81 1970-01-01 00:26:29.312814200   \n",
       "996  9.774365e+17    483.66 1970-01-01 00:26:40.899767260   \n",
       "997  1.773213e+18    444.32 1970-01-01 00:26:21.394310390   \n",
       "998  1.154251e+18    446.74 1970-01-01 00:26:18.851460990   \n",
       "999  6.752385e+17    907.17 1970-01-01 00:26:47.418656570   \n",
       "\n",
       "       transaction_completed_at_y   status_y transaction_requested_at_fmt_y  \\\n",
       "0   1970-01-01 00:26:18.150055960  completed           1970-01-01 00:26:18.   \n",
       "1   1970-01-01 00:26:42.776879440  completed           1970-01-01 00:26:42.   \n",
       "2   1970-01-01 00:26:45.026790330  completed           1970-01-01 00:26:45.   \n",
       "3   1970-01-01 00:26:28.839402200  completed           1970-01-01 00:26:28.   \n",
       "4   1970-01-01 00:26:38.670863910  completed           1970-01-01 00:26:38.   \n",
       "..                            ...        ...                            ...   \n",
       "995 1970-01-01 00:26:29.312829790  completed           1970-01-01 00:26:29.   \n",
       "996 1970-01-01 00:26:40.899775290  completed           1970-01-01 00:26:40.   \n",
       "997 1970-01-01 00:26:21.394312360  completed           1970-01-01 00:26:21.   \n",
       "998 1970-01-01 00:26:18.851473380  completed           1970-01-01 00:26:18.   \n",
       "999 1970-01-01 00:26:47.418670640  completed           1970-01-01 00:26:47.   \n",
       "\n",
       "    transaction_completed_at_fmt_y  \n",
       "0             1970-01-01 00:26:18.  \n",
       "1             1970-01-01 00:26:42.  \n",
       "2             1970-01-01 00:26:45.  \n",
       "3             1970-01-01 00:26:28.  \n",
       "4             1970-01-01 00:26:38.  \n",
       "..                             ...  \n",
       "995           1970-01-01 00:26:29.  \n",
       "996           1970-01-01 00:26:40.  \n",
       "997           1970-01-01 00:26:21.  \n",
       "998           1970-01-01 00:26:18.  \n",
       "999           1970-01-01 00:26:47.  \n",
       "\n",
       "[1000 rows x 15 columns]"
      ]
     },
     "execution_count": 48,
     "metadata": {},
     "output_type": "execute_result"
    }
   ],
   "source": [
    "d_entrada_saida.head(1000)"
   ]
  }
 ],
 "metadata": {
  "kernelspec": {
   "display_name": "projeto",
   "language": "python",
   "name": "python3"
  },
  "language_info": {
   "codemirror_mode": {
    "name": "ipython",
    "version": 3
   },
   "file_extension": ".py",
   "mimetype": "text/x-python",
   "name": "python",
   "nbconvert_exporter": "python",
   "pygments_lexer": "ipython3",
   "version": "3.12.10"
  }
 },
 "nbformat": 4,
 "nbformat_minor": 5
}
